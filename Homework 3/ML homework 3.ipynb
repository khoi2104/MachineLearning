{
 "cells": [
  {
   "cell_type": "code",
   "execution_count": 1,
   "id": "2fa1aa82",
   "metadata": {},
   "outputs": [],
   "source": [
    "import numpy as np\n",
    "import pandas as pd \n",
    "import matplotlib.pyplot as plt\n"
   ]
  },
  {
   "cell_type": "code",
   "execution_count": 41,
   "id": "7cff4f4f",
   "metadata": {},
   "outputs": [
    {
     "name": "stdout",
     "output_type": "stream",
     "text": [
      "[[ 30.     448.524 ]\n",
      " [ 32.4138 509.248 ]\n",
      " [ 34.8276 535.104 ]]\n",
      "\n",
      "30\n"
     ]
    }
   ],
   "source": [
    "data = pd.read_csv('data_linear.txt').values  # '.values' to transform data from type Series to type Array\n",
    "print(data[:3, :])\n",
    "N = data.shape[0]\n",
    "\n",
    "print()\n",
    "print(N)\n"
   ]
  },
  {
   "cell_type": "code",
   "execution_count": 44,
   "id": "de73014d",
   "metadata": {},
   "outputs": [
    {
     "data": {
      "image/png": "[encoded data removed]",
      "text/plain": [
       "<Figure size 432x288 with 1 Axes>"
      ]
     },
     "metadata": {
      "needs_background": "light"
     },
     "output_type": "display_data"
    }
   ],
   "source": [
    "x = data[:, 0].reshape(-1, 1)\n",
    "y = data[:, 1].reshape(-1, 1)\n",
    "\n",
    "plt.scatter(x, y)\n",
    "plt.xlabel('Area(m^2)')\n",
    "plt.ylabel('Price')\n",
    "plt.grid()\n",
    "plt.show()\n"
   ]
  },
  {
   "cell_type": "code",
   "execution_count": 43,
   "id": "b76438bd",
   "metadata": {},
   "outputs": [
    {
     "name": "stdout",
     "output_type": "stream",
     "text": [
      "[[0.]\n",
      " [1.]]\n",
      "\n",
      "(30, 2)\n",
      "(2, 1)\n"
     ]
    }
   ],
   "source": [
    "x = np.hstack((np.ones((N,1)), x))\n",
    "w = np.array([0., 1.]).reshape(-1, 1)\n",
    "print(w)\n",
    "\n",
    "print()\n",
    "print(x.shape)\n",
    "print(w.shape)\n"
   ]
  },
  {
   "cell_type": "code",
   "execution_count": null,
   "id": "bcecb452",
   "metadata": {},
   "outputs": [],
   "source": []
  }
 ],
 "metadata": {
  "kernelspec": {
   "display_name": "Python 3",
   "language": "python",
   "name": "python3"
  },
  "language_info": {
   "codemirror_mode": {
    "name": "ipython",
    "version": 3
   },
   "file_extension": ".py",
   "mimetype": "text/x-python",
   "name": "python",
   "nbconvert_exporter": "python",
   "pygments_lexer": "ipython3",
   "version": "3.8.5"
  }
 },
 "nbformat": 4,
 "nbformat_minor": 5
}
